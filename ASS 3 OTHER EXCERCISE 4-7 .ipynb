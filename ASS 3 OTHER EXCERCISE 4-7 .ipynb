{
 "cells": [
  {
   "cell_type": "markdown",
   "id": "a9403eac-79b8-494f-a2ce-53a4f8d1322f",
   "metadata": {},
   "source": [
    "## Exercise 4 – Greatest of Three Numbers"
   ]
  },
  {
   "cell_type": "code",
   "execution_count": 2,
   "id": "2cd5c191-19b9-4ca8-b44c-12e55af45465",
   "metadata": {},
   "outputs": [
    {
     "name": "stdin",
     "output_type": "stream",
     "text": [
      "Enter first number:  2\n",
      "Enter second number:  4\n",
      "Enter third number:  6\n"
     ]
    },
    {
     "name": "stdout",
     "output_type": "stream",
     "text": [
      "The greatest number is 6.0\n"
     ]
    }
   ],
   "source": [
    "a = float(input(\"Enter first number: \"))\n",
    "b = float(input(\"Enter second number: \"))\n",
    "c = float(input(\"Enter third number: \"))\n",
    "\n",
    "greatest = max(a, b, c)\n",
    "print(f\"The greatest number is {greatest}\")\n"
   ]
  },
  {
   "cell_type": "markdown",
   "id": "49e0f64f-5168-4a14-8e94-ce90a3c26061",
   "metadata": {},
   "source": [
    "## Exercise 5 – Factorial Using Loop"
   ]
  },
  {
   "cell_type": "code",
   "execution_count": 4,
   "id": "a458bcb0-b87d-4621-856f-041cbf41f6b2",
   "metadata": {},
   "outputs": [
    {
     "name": "stdin",
     "output_type": "stream",
     "text": [
      "Enter a number:  3\n"
     ]
    },
    {
     "name": "stdout",
     "output_type": "stream",
     "text": [
      "Factorial of 3 is 6\n"
     ]
    }
   ],
   "source": [
    "num = int(input(\"Enter a number: \"))\n",
    "factorial = 1\n",
    "\n",
    "for i in range(1, num + 1):\n",
    "    factorial *= i\n",
    "\n",
    "print(f\"Factorial of {num} is {factorial}\")\n"
   ]
  },
  {
   "cell_type": "markdown",
   "id": "52056c4c-c5d8-488b-82b4-2ea6a638ef13",
   "metadata": {},
   "source": [
    "  ## Exercise 6 – Reverse a Number Using While Loop"
   ]
  },
  {
   "cell_type": "code",
   "execution_count": 6,
   "id": "1564edc5-aeb2-4008-bb05-864b145e80ec",
   "metadata": {},
   "outputs": [
    {
     "name": "stdin",
     "output_type": "stream",
     "text": [
      "Enter a number:  21\n"
     ]
    },
    {
     "name": "stdout",
     "output_type": "stream",
     "text": [
      "Reversed number: 12\n"
     ]
    }
   ],
   "source": [
    "num = int(input(\"Enter a number: \"))\n",
    "reverse = 0\n",
    "\n",
    "while num > 0:\n",
    "    digit = num % 10\n",
    "    reverse = reverse * 10 + digit\n",
    "    num //= 10\n",
    "\n",
    "print(f\"Reversed number: {reverse}\")\n"
   ]
  },
  {
   "cell_type": "markdown",
   "id": "30dd0694-add5-4958-8ca9-5b710fb240d5",
   "metadata": {},
   "source": [
    "## Exercise 7 – Multiples of a Number"
   ]
  },
  {
   "cell_type": "code",
   "execution_count": 10,
   "id": "4d8ac48e-3e81-4969-93a1-da99d6a2513b",
   "metadata": {},
   "outputs": [
    {
     "name": "stdin",
     "output_type": "stream",
     "text": [
      "Enter a number to find its multiples:  8\n",
      "Enter the limit:  10\n"
     ]
    },
    {
     "name": "stdout",
     "output_type": "stream",
     "text": [
      "Multiples of 8 up to 10:\n",
      "8\n",
      "16\n",
      "24\n",
      "32\n",
      "40\n",
      "48\n",
      "56\n",
      "64\n",
      "72\n",
      "80\n"
     ]
    }
   ],
   "source": [
    "number = int(input(\"Enter a number to find its multiples: \"))\n",
    "limit = int(input(\"Enter the limit: \"))\n",
    "\n",
    "print(f\"Multiples of {number} up to {limit}:\")\n",
    "for i in range(1, limit + 1):\n",
    "    print(number * i)\n"
   ]
  },
  {
   "cell_type": "code",
   "execution_count": null,
   "id": "a068b17b-7abc-44a6-8cbe-b1c039975bde",
   "metadata": {},
   "outputs": [],
   "source": []
  }
 ],
 "metadata": {
  "kernelspec": {
   "display_name": "Python [conda env:base] *",
   "language": "python",
   "name": "conda-base-py"
  },
  "language_info": {
   "codemirror_mode": {
    "name": "ipython",
    "version": 3
   },
   "file_extension": ".py",
   "mimetype": "text/x-python",
   "name": "python",
   "nbconvert_exporter": "python",
   "pygments_lexer": "ipython3",
   "version": "3.12.7"
  }
 },
 "nbformat": 4,
 "nbformat_minor": 5
}

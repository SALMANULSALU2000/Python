{
 "cells": [
  {
   "cell_type": "markdown",
   "id": "9002fb28-f662-4703-ba7a-53432ae1e3fc",
   "metadata": {},
   "source": [
    "# Python Data Structures Exercises\n",
    "\n",
    "## 🔹 List Exercises\n"
   ]
  },
  {
   "cell_type": "code",
   "execution_count": 11,
   "id": "80fc7883-56c7-4bd6-99e1-abf57977fcfa",
   "metadata": {},
   "outputs": [
    {
     "name": "stdout",
     "output_type": "stream",
     "text": [
      "Original List: [38, 22, 61, 62, 26]\n",
      "Updated List: [38, 22, 61, 62, 26, 200, 300, 400]\n",
      "Elements in the list:\n",
      "38\n",
      "22\n",
      "61\n",
      "62\n",
      "26\n",
      "200\n",
      "300\n",
      "400\n"
     ]
    }
   ],
   "source": [
    "# Q1. Create a list of 5 random numbers and print the list\n",
    "import random\n",
    "my_list = [random.randint(1, 100) for _ in range(5)]\n",
    "print(\"Original List:\", my_list)\n",
    "\n",
    "# Q2. Insert 3 new values to the list and print the updated list\n",
    "my_list.extend([200, 300, 400])\n",
    "print(\"Updated List:\", my_list)\n",
    "\n",
    "# Q3. Use a for loop to print each element in the list\n",
    "print(\"Elements in the list:\")\n",
    "for num in my_list:\n",
    "    print(num)\n"
   ]
  },
  {
   "cell_type": "markdown",
   "id": "c0760097-3474-43dc-9a47-6c8ce6a90643",
   "metadata": {},
   "source": [
    "## 🔹 Dictionary Exercises\n"
   ]
  },
  {
   "cell_type": "code",
   "execution_count": 14,
   "id": "ed8a3760-8f05-41fc-8a0d-5c08a1a0dfa9",
   "metadata": {},
   "outputs": [
    {
     "name": "stdout",
     "output_type": "stream",
     "text": [
      "Original Dictionary: {'name': 'John', 'age': 25, 'address': 'New York'}\n",
      "Updated Dictionary: {'name': 'John', 'age': 25, 'address': 'New York', 'phone': '1234567890'}\n"
     ]
    }
   ],
   "source": [
    "# Q1. Create a dictionary\n",
    "my_dict = {'name': 'John', 'age': 25, 'address': 'New York'}\n",
    "print(\"Original Dictionary:\", my_dict)\n",
    "\n",
    "# Q2. Add a new key-value pair\n",
    "my_dict['phone'] = '1234567890'\n",
    "print(\"Updated Dictionary:\", my_dict)\n"
   ]
  },
  {
   "cell_type": "markdown",
   "id": "de96d0eb-3521-4f97-9747-eb81fe6a43a3",
   "metadata": {},
   "source": [
    "## 🔹 Set Exercises\n"
   ]
  },
  {
   "cell_type": "code",
   "execution_count": 16,
   "id": "78af483b-cc42-498c-aa62-c1e9de2ebd1e",
   "metadata": {},
   "outputs": [
    {
     "name": "stdout",
     "output_type": "stream",
     "text": [
      "Original Set: {1, 2, 3, 4, 5}\n",
      "Set after adding 6: {1, 2, 3, 4, 5, 6}\n",
      "Set after removing 3: {1, 2, 4, 5, 6}\n"
     ]
    }
   ],
   "source": [
    "# Q1. Create a set\n",
    "my_set = {1, 2, 3, 4, 5}\n",
    "print(\"Original Set:\", my_set)\n",
    "\n",
    "# Q2. Add the value 6\n",
    "my_set.add(6)\n",
    "print(\"Set after adding 6:\", my_set)\n",
    "\n",
    "# Q3. Remove the value 3\n",
    "my_set.discard(3)\n",
    "print(\"Set after removing 3:\", my_set)\n"
   ]
  },
  {
   "cell_type": "markdown",
   "id": "5606ac8f-d4bf-4bef-bd9e-965481475d2e",
   "metadata": {},
   "source": [
    "## 🔹 Tuple Exercises\n"
   ]
  },
  {
   "cell_type": "code",
   "execution_count": 18,
   "id": "e283b6ed-c43d-42a5-b7a4-050ef83b3687",
   "metadata": {},
   "outputs": [
    {
     "name": "stdout",
     "output_type": "stream",
     "text": [
      "Tuple: (1, 2, 3, 4)\n",
      "Length of tuple: 4\n"
     ]
    }
   ],
   "source": [
    "# Q1. Create a tuple\n",
    "my_tuple = (1, 2, 3, 4)\n",
    "print(\"Tuple:\", my_tuple)\n",
    "\n",
    "# Q2. Print the length of the tuple\n",
    "print(\"Length of tuple:\", len(my_tuple))\n"
   ]
  },
  {
   "cell_type": "code",
   "execution_count": null,
   "id": "46594399-2944-400e-a61f-90d873c24dc2",
   "metadata": {},
   "outputs": [],
   "source": []
  }
 ],
 "metadata": {
  "kernelspec": {
   "display_name": "Python [conda env:base] *",
   "language": "python",
   "name": "conda-base-py"
  },
  "language_info": {
   "codemirror_mode": {
    "name": "ipython",
    "version": 3
   },
   "file_extension": ".py",
   "mimetype": "text/x-python",
   "name": "python",
   "nbconvert_exporter": "python",
   "pygments_lexer": "ipython3",
   "version": "3.12.7"
  }
 },
 "nbformat": 4,
 "nbformat_minor": 5
}

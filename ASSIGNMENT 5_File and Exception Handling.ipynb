{
 "cells": [
  {
   "cell_type": "code",
   "execution_count": 10,
   "id": "32b272b0-3da6-40c6-84ea-a762b11f0257",
   "metadata": {},
   "outputs": [
    {
     "name": "stdout",
     "output_type": "stream",
     "text": [
      "THIS IS A SAMPLE DATA\n"
     ]
    }
   ],
   "source": [
    "with open(\"DEMO.txt\", \"r\") as file:\n",
    "    content = file.read()\n",
    "    print(content)\n"
   ]
  },
  {
   "cell_type": "code",
   "execution_count": 14,
   "id": "10ed6708-2df9-447e-b2be-f332870fcb32",
   "metadata": {},
   "outputs": [
    {
     "name": "stdout",
     "output_type": "stream",
     "text": [
      "File copied successfully.\n"
     ]
    }
   ],
   "source": [
    "with open(\"DEMO.TXT\", \"r\") as source:\n",
    "    data = source.read()\n",
    "\n",
    "with open(\"DEMO2.txt\", \"w\") as target:\n",
    "    target.write(data)\n",
    "\n",
    "print(\"File copied successfully.\")\n"
   ]
  },
  {
   "cell_type": "code",
   "execution_count": 18,
   "id": "352d7015-e429-4a24-b001-cc523914b72d",
   "metadata": {},
   "outputs": [
    {
     "name": "stdout",
     "output_type": "stream",
     "text": [
      "Total words: 5\n"
     ]
    }
   ],
   "source": [
    "with open(\"DEMO.txt\", \"r\") as file:\n",
    "    text = file.read()\n",
    "    words = text.split()\n",
    "    print(\"Total words:\", len(words))\n"
   ]
  },
  {
   "cell_type": "code",
   "execution_count": 22,
   "id": "44d32f8d-1276-4c0f-bebc-165600809af7",
   "metadata": {},
   "outputs": [
    {
     "name": "stdin",
     "output_type": "stream",
     "text": [
      "Enter a number:  2.5\n"
     ]
    },
    {
     "name": "stdout",
     "output_type": "stream",
     "text": [
      "That's not a valid number!\n"
     ]
    }
   ],
   "source": [
    "try:\n",
    "    value = input(\"Enter a number: \")\n",
    "    number = int(value)\n",
    "    print(\"You entered:\", number)\n",
    "except ValueError:\n",
    "    print(\"That's not a valid number!\")\n"
   ]
  },
  {
   "cell_type": "code",
   "execution_count": 24,
   "id": "69c6d44a-72e5-4e85-a421-da7c52e96dbe",
   "metadata": {},
   "outputs": [
    {
     "name": "stdin",
     "output_type": "stream",
     "text": [
      "Enter a number:  2\n"
     ]
    },
    {
     "name": "stdout",
     "output_type": "stream",
     "text": [
      "You entered: 2\n"
     ]
    }
   ],
   "source": [
    "try:\n",
    "    value = input(\"Enter a number: \")\n",
    "    number = int(value)\n",
    "    print(\"You entered:\", number)\n",
    "except ValueError:\n",
    "    print(\"That's not a valid number!\")\n"
   ]
  },
  {
   "cell_type": "code",
   "execution_count": 26,
   "id": "6b97d49c-2f71-4336-95ab-b11514c3df2f",
   "metadata": {},
   "outputs": [
    {
     "name": "stdin",
     "output_type": "stream",
     "text": [
      "Enter numbers (space separated):  2\n"
     ]
    },
    {
     "name": "stdout",
     "output_type": "stream",
     "text": [
      "All numbers are positive.\n"
     ]
    }
   ],
   "source": [
    "try:\n",
    "    numbers = input(\"Enter numbers (space separated): \").split()\n",
    "    for n in numbers:\n",
    "        if int(n) < 0:\n",
    "            raise ValueError(\"Negative numbers not allowed!\")\n",
    "    print(\"All numbers are positive.\")\n",
    "except ValueError as e:\n",
    "    print(\"Error:\", e)\n"
   ]
  },
  {
   "cell_type": "code",
   "execution_count": 28,
   "id": "52634291-3776-45a4-94a1-3422a30d7f60",
   "metadata": {},
   "outputs": [
    {
     "name": "stdin",
     "output_type": "stream",
     "text": [
      "Enter numbers (space separated):  -5\n"
     ]
    },
    {
     "name": "stdout",
     "output_type": "stream",
     "text": [
      "Error: Negative numbers not allowed!\n"
     ]
    }
   ],
   "source": [
    "try:\n",
    "    numbers = input(\"Enter numbers (space separated): \").split()\n",
    "    for n in numbers:\n",
    "        if int(n) < 0:\n",
    "            raise ValueError(\"Negative numbers not allowed!\")\n",
    "    print(\"All numbers are positive.\")\n",
    "except ValueError as e:\n",
    "    print(\"Error:\", e)"
   ]
  },
  {
   "cell_type": "code",
   "execution_count": 5,
   "id": "4a4dcffd-a9f9-459a-9a04-8fad952feae7",
   "metadata": {},
   "outputs": [
    {
     "name": "stdin",
     "output_type": "stream",
     "text": [
      "Enter numbers:  2  5 8 3\n"
     ]
    },
    {
     "name": "stdout",
     "output_type": "stream",
     "text": [
      "Average: 4.5\n",
      "Program finished.\n"
     ]
    }
   ],
   "source": [
    "try:\n",
    "    numbers = input(\"Enter numbers: \").split()\n",
    "    numbers = [int(n) for n in numbers]\n",
    "    avg = sum(numbers) / len(numbers)\n",
    "    print(\"Average:\", avg)\n",
    "except:\n",
    "    print(\"Something went wrong!\")\n",
    "finally:\n",
    "    print(\"Program finished.\")\n"
   ]
  },
  {
   "cell_type": "code",
   "execution_count": 3,
   "id": "34c3fcc6-11f5-495d-8122-25eb7ddf510c",
   "metadata": {},
   "outputs": [
    {
     "name": "stdin",
     "output_type": "stream",
     "text": [
      "Enter numbers:  SA245\n"
     ]
    },
    {
     "name": "stdout",
     "output_type": "stream",
     "text": [
      "Something went wrong!\n",
      "Program finished.\n"
     ]
    }
   ],
   "source": [
    "try:\n",
    "    numbers = input(\"Enter numbers: \").split()\n",
    "    numbers = [int(n) for n in numbers]\n",
    "    avg = sum(numbers) / len(numbers)\n",
    "    print(\"Average:\", avg)\n",
    "except:\n",
    "    print(\"Something went wrong!\")\n",
    "finally:\n",
    "    print(\"Program finished.\")"
   ]
  },
  {
   "cell_type": "code",
   "execution_count": 7,
   "id": "eeb5d1a0-1cec-4be4-abd9-e031e235daee",
   "metadata": {},
   "outputs": [
    {
     "name": "stdin",
     "output_type": "stream",
     "text": [
      "Enter file name:  DEMO.TXT\n",
      "Enter text to save:  HI\n"
     ]
    },
    {
     "name": "stdout",
     "output_type": "stream",
     "text": [
      "Welcome! File saved successfully.\n"
     ]
    }
   ],
   "source": [
    "try:\n",
    "    filename = input(\"Enter file name: \")\n",
    "    content = input(\"Enter text to save: \")\n",
    "    with open(filename, \"w\") as f:\n",
    "        f.write(content)\n",
    "    print(\"Welcome! File saved successfully.\")\n",
    "except:\n",
    "    print(\"Error while writing to file.\")\n"
   ]
  },
  {
   "cell_type": "code",
   "execution_count": null,
   "id": "ec3d3be9-5a81-4697-8d8f-853b8c017185",
   "metadata": {},
   "outputs": [],
   "source": []
  }
 ],
 "metadata": {
  "kernelspec": {
   "display_name": "Python [conda env:base] *",
   "language": "python",
   "name": "conda-base-py"
  },
  "language_info": {
   "codemirror_mode": {
    "name": "ipython",
    "version": 3
   },
   "file_extension": ".py",
   "mimetype": "text/x-python",
   "name": "python",
   "nbconvert_exporter": "python",
   "pygments_lexer": "ipython3",
   "version": "3.12.7"
  }
 },
 "nbformat": 4,
 "nbformat_minor": 5
}

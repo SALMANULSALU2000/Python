{
 "cells": [
  {
   "cell_type": "markdown",
   "id": "bd34a29f-4a2a-423a-9174-562dd42f2b70",
   "metadata": {},
   "source": [
    "## EXERCISE 1"
   ]
  },
  {
   "cell_type": "code",
   "execution_count": 16,
   "id": "c71d6d50-1389-4240-ae84-543b9265efba",
   "metadata": {},
   "outputs": [
    {
     "name": "stdout",
     "output_type": "stream",
     "text": [
      "Sum: 15\n",
      "Sum: 6\n",
      "Product: 24\n"
     ]
    }
   ],
   "source": [
    "def calculate(a, b=10, c=None):\n",
    "    if c is None:\n",
    "        print(\"Sum:\", a + b)\n",
    "    else:\n",
    "        print(\"Product:\", a * b * c)\n",
    "\n",
    "\n",
    "calculate(5)           \n",
    "calculate(2, 4)         \n",
    "calculate(2, 4, 3)       \n"
   ]
  },
  {
   "cell_type": "markdown",
   "id": "6829e1f6-431a-4173-8e44-7c53ea17599d",
   "metadata": {},
   "source": [
    "## EXERCISE 2"
   ]
  },
  {
   "cell_type": "code",
   "execution_count": 8,
   "id": "eb84828a-f571-49a5-ade5-3065678628fc",
   "metadata": {},
   "outputs": [
    {
     "name": "stdout",
     "output_type": "stream",
     "text": [
      "Result: 17\n"
     ]
    }
   ],
   "source": [
    "expression = \"3 * 5 + 2\"\n",
    "result = eval(expression)\n",
    "print(\"Result:\", result) \n"
   ]
  },
  {
   "cell_type": "markdown",
   "id": "c61dfba1-290d-4f74-98d4-cd64feeb19aa",
   "metadata": {},
   "source": [
    "## EXERCISE 3"
   ]
  },
  {
   "cell_type": "code",
   "execution_count": 10,
   "id": "e861a8e5-8a37-4e19-9456-c249845a05e0",
   "metadata": {},
   "outputs": [
    {
     "name": "stdout",
     "output_type": "stream",
     "text": [
      "['apple', 'banana', 'hello']\n"
     ]
    }
   ],
   "source": [
    "def filter_long_strings(strings):\n",
    "    return [s for s in strings if len(s) >= 5]\n",
    "\n",
    "# Example usage:\n",
    "words = [\"apple\", \"dog\", \"banana\", \"cat\", \"hello\"]\n",
    "print(filter_long_strings(words)) "
   ]
  },
  {
   "cell_type": "markdown",
   "id": "e3c17fe8-6b0f-42c1-bf4e-301fcdd62d6a",
   "metadata": {},
   "source": [
    "## EXERCISE 4"
   ]
  },
  {
   "cell_type": "code",
   "execution_count": 6,
   "id": "6e43f8f9-fb2f-4e7f-95be-780807c04be8",
   "metadata": {},
   "outputs": [
    {
     "name": "stdout",
     "output_type": "stream",
     "text": [
      "Prime numbers: [2, 3, 5, 7, 13, 17]\n"
     ]
    }
   ],
   "source": [
    "def is_prime(n):\n",
    "    if n < 2:\n",
    "        return False\n",
    "    for i in range(2, int(n**0.5)+1):\n",
    "        if n % i == 0:\n",
    "            return False\n",
    "    return True\n",
    "\n",
    "numbers = [2, 3, 4, 5, 6, 7, 10, 13, 15, 17]\n",
    "prime_numbers = list(filter(is_prime, numbers))\n",
    "print(\"Prime numbers:\", prime_numbers)\n",
    "\n"
   ]
  },
  {
   "cell_type": "code",
   "execution_count": null,
   "id": "92d424c9-6e27-4cd5-b61a-6ca3a7afd660",
   "metadata": {},
   "outputs": [],
   "source": [
    "## EXERCISE 5"
   ]
  },
  {
   "cell_type": "code",
   "execution_count": 4,
   "id": "ca8c12f6-e30d-47fb-a254-9a1cf85dd38d",
   "metadata": {},
   "outputs": [
    {
     "name": "stdout",
     "output_type": "stream",
     "text": [
      "Uppercase words: ['APPLE', 'BANANA', 'CHERRY']\n"
     ]
    }
   ],
   "source": [
    "words = [\"apple\", \"banana\", \"cherry\"]\n",
    "upper_words = list(map(str.upper, words))\n",
    "print(\"Uppercase words:\", upper_words)\n",
    "\n"
   ]
  },
  {
   "cell_type": "code",
   "execution_count": null,
   "id": "d94831d5-a479-4014-b0b9-85ee15dea072",
   "metadata": {},
   "outputs": [],
   "source": []
  }
 ],
 "metadata": {
  "kernelspec": {
   "display_name": "Python [conda env:base] *",
   "language": "python",
   "name": "conda-base-py"
  },
  "language_info": {
   "codemirror_mode": {
    "name": "ipython",
    "version": 3
   },
   "file_extension": ".py",
   "mimetype": "text/x-python",
   "name": "python",
   "nbconvert_exporter": "python",
   "pygments_lexer": "ipython3",
   "version": "3.12.7"
  }
 },
 "nbformat": 4,
 "nbformat_minor": 5
}

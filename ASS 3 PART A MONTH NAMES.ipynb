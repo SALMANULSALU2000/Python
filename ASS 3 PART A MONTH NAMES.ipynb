{
 "cells": [
  {
   "cell_type": "markdown",
   "id": "5ecd939e-3fc2-458b-912a-29080237d21e",
   "metadata": {},
   "source": [
    "# MONTH NAMES"
   ]
  },
  {
   "cell_type": "code",
   "execution_count": null,
   "id": "7192c6a1-3400-41d6-8d59-8772642dafb9",
   "metadata": {},
   "outputs": [],
   "source": [
    "\n",
    "month_number = int(input(\"Enter the month: \"))\n",
    "\n",
    "months = [\"January\", \"February\", \"March\", \"April\", \"May\", \"June\",\n",
    "          \"July\", \"August\", \"September\", \"October\", \"November\", \"December\"]\n",
    "\n",
    "if 1 <= month_number <= 12:\n",
    "    print(f\"Month {month_number} is {months[month_number - 1]}\")\n",
    "else:\n",
    "    print(\"Invalid month number\")\n"
   ]
  },
  {
   "cell_type": "code",
   "execution_count": null,
   "id": "7b5124ea-9f12-449d-95e5-8668e1d9199b",
   "metadata": {},
   "outputs": [],
   "source": [
    "\n"
   ]
  }
 ],
 "metadata": {
  "kernelspec": {
   "display_name": "Python [conda env:base] *",
   "language": "python",
   "name": "conda-base-py"
  },
  "language_info": {
   "codemirror_mode": {
    "name": "ipython",
    "version": 3
   },
   "file_extension": ".py",
   "mimetype": "text/x-python",
   "name": "python",
   "nbconvert_exporter": "python",
   "pygments_lexer": "ipython3",
   "version": "3.12.7"
  }
 },
 "nbformat": 4,
 "nbformat_minor": 5
}

{
 "cells": [
  {
   "cell_type": "code",
   "execution_count": 16,
   "id": "5eac9822-c7aa-47e2-bc9c-62a483b25767",
   "metadata": {},
   "outputs": [
    {
     "name": "stdout",
     "output_type": "stream",
     "text": [
      "Salmanul Faris\n",
      "ST1000\n",
      "SALMANULFARISSALMU111@GMAIL.COM\n"
     ]
    }
   ],
   "source": [
    "# Exercise 1 This program prints personal information \n",
    "\n",
    "print(\"Salmanul Faris\")\n",
    "print(\"ST1000\")\n",
    "print(\"SALMANULFARISSALMU111@GMAIL.COM\")\n"
   ]
  },
  {
   "cell_type": "code",
   "execution_count": 18,
   "id": "753c8914-25f1-478c-a21b-9fa980afe8e8",
   "metadata": {},
   "outputs": [
    {
     "name": "stdout",
     "output_type": "stream",
     "text": [
      "Salmanul Faris\n",
      "ST1000\n",
      "SALMANULFARISSALMU111@GMAIL.COM\n"
     ]
    }
   ],
   "source": [
    "# Exercise 2 This program prints personal information using escape sequences\n",
    "\n",
    "print(\"Salmanul Faris\\nST1000\\nSALMANULFARISSALMU111@GMAIL.COM\")\n"
   ]
  },
  {
   "cell_type": "code",
   "execution_count": 20,
   "id": "cbbe2481-8e5a-4247-9a0c-29052516224b",
   "metadata": {},
   "outputs": [
    {
     "name": "stdout",
     "output_type": "stream",
     "text": [
      "14 + 7 = 21\n",
      "14 * 7 = 98\n",
      "14 - 7 = 7\n",
      "14 / 7 = 2.0\n"
     ]
    }
   ],
   "source": [
    "# Exercise 3 This program performs basic arithmetic operations on two numbers\n",
    "\n",
    "a = 14\n",
    "b = 7\n",
    "\n",
    "print(f\"{a} + {b} = {a + b}\")\n",
    "print(f\"{a} * {b} = {a * b}\")\n",
    "print(f\"{a} - {b} = {a - b}\")\n",
    "print(f\"{a} / {b} = {a / b}\")\n"
   ]
  },
  {
   "cell_type": "code",
   "execution_count": 22,
   "id": "e7bf0120-bd7f-470b-b494-e18e59ca70dc",
   "metadata": {},
   "outputs": [
    {
     "name": "stdout",
     "output_type": "stream",
     "text": [
      "1\n",
      "2\n",
      "3\n",
      "4\n",
      "5\n"
     ]
    }
   ],
   "source": [
    "# Exercise 4 Using a loop to print numbers from 1 to 5\n",
    "\n",
    "for i in range(1, 6):\n",
    "    print(i)\n"
   ]
  },
  {
   "cell_type": "code",
   "execution_count": 6,
   "id": "55311d46-d8eb-403f-8ee4-57cace1a2fe5",
   "metadata": {},
   "outputs": [
    {
     "name": "stdout",
     "output_type": "stream",
     "text": [
      "\"SDK\" stands for \"Software Development Kit\", whereas\n",
      "\"IDE\" stands for \"Integrated Development Environment\".\n"
     ]
    }
   ],
   "source": [
    "# Exercise 5 This program prints a sentence with quotation marks and a line break\n",
    "\n",
    "print(\"\\\"SDK\\\" stands for \\\"Software Development Kit\\\", whereas\\n\\\"IDE\\\" stands for \\\"Integrated Development Environment\\\".\")\n"
   ]
  },
  {
   "cell_type": "code",
   "execution_count": 24,
   "id": "7d09c191-163c-4a40-bccf-4594342aaf37",
   "metadata": {},
   "outputs": [
    {
     "name": "stdout",
     "output_type": "stream",
     "text": [
      "python is an \"awesome\" language.\n",
      "python\n",
      "\t2023\n",
      "I'm from Entri\n",
      "5\n",
      "e\n",
      "Entri\n",
      "2023\n",
      "Entr2023\n",
      "Entri*20"
     ]
    }
   ],
   "source": [
    "#Exercise 6\n",
    "print(\"python is an \\\"awesome\\\" language.\")\n",
    "print(\"python\\n\\t2023\")\n",
    "print('I\\'m from Entri.\\b')\n",
    "print(\"\\65\") \n",
    "print(\"\\x65\") \n",
    "print(\"Entri\", \"2023\", sep=\"\\n\") \n",
    "print(\"Entri\", \"2023\", sep=\"\\b\")\n",
    "print(\"Entri\", \"2023\", sep=\"*\", \n",
    "      end=\"\\b\\b\\b\\b\")"
   ]
  },
  {
   "cell_type": "code",
   "execution_count": 10,
   "id": "e6017c62-23e8-4159-86d4-feeb0f79d26e",
   "metadata": {},
   "outputs": [
    {
     "name": "stdout",
     "output_type": "stream",
     "text": [
      "Type of num: <class 'int'>\n",
      "Type of textnum: <class 'str'>\n",
      "Type of decimal: <class 'float'>\n",
      "Sum of variables: 178.3\n",
      "Type of the sum: <class 'float'>\n"
     ]
    }
   ],
   "source": [
    "#Exercise 7 Define variables\n",
    "num = 23\n",
    "textnum = \"57\"\n",
    "decimal = 98.3\n",
    "\n",
    "# Print types\n",
    "print(\"Type of num:\", type(num))\n",
    "print(\"Type of textnum:\", type(textnum))\n",
    "print(\"Type of decimal:\", type(decimal))\n",
    "\n",
    "# Convert textnum to integer for addition\n",
    "textnum_converted = int(textnum)\n",
    "\n",
    "# Calculate the sum\n",
    "total = num + textnum_converted + decimal\n",
    "\n",
    "# Print the sum\n",
    "print(\"Sum of variables:\", total)\n",
    "\n",
    "# Print the type of the sum\n",
    "print(\"Type of the sum:\", type(total))\n"
   ]
  },
  {
   "cell_type": "code",
   "execution_count": 28,
   "id": "a271c290-cb93-4958-af1a-4c81cf43f50b",
   "metadata": {},
   "outputs": [
    {
     "name": "stdout",
     "output_type": "stream",
     "text": [
      "This program calculates the number of minutes in a year using days, hours, and minutes.\n",
      "Days in a year: 365\n",
      "Hours in a day: 24\n",
      "Minutes in an hour: 60\n",
      "Total number of minutes in a year: 525600\n"
     ]
    }
   ],
   "source": [
    "# Exercise 8 This program calculates the total number of minutes in a year\n",
    "\n",
    "# Define time units\n",
    "days_in_year = 365\n",
    "hours_in_day = 24\n",
    "minutes_in_hour = 60\n",
    "\n",
    "# Calculate total minutes in a year\n",
    "total_minutes = days_in_year * hours_in_day * minutes_in_hour\n",
    "\n",
    "# Print explanation and result\n",
    "print(\"This program calculates the number of minutes in a year using days, hours, and minutes.\")\n",
    "print(\"Days in a year:\", days_in_year)\n",
    "print(\"Hours in a day:\", hours_in_day)\n",
    "print(\"Minutes in an hour:\", minutes_in_hour)\n",
    "print(\"Total number of minutes in a year:\", total_minutes)\n",
    "\n"
   ]
  },
  {
   "cell_type": "code",
   "execution_count": 26,
   "id": "5c1873b9-3fe5-42c6-b93d-a718c9d16f0c",
   "metadata": {},
   "outputs": [
    {
     "name": "stdout",
     "output_type": "stream",
     "text": [
      "Hi Salman, welcome to Python programming :)\n"
     ]
    }
   ],
   "source": [
    "# Excerise 9 This program greets the user with their name\n",
    "\n",
    "# Define the name\n",
    "name = \"Salman\"\n",
    "\n",
    "# Output a greeting with the user's name\n",
    "print(f\"Hi {name}, welcome to Python programming :)\")\n"
   ]
  },
  {
   "cell_type": "code",
   "execution_count": null,
   "id": "2ccdfce2-45f5-4095-ab14-a1647ad898a3",
   "metadata": {},
   "outputs": [],
   "source": []
  }
 ],
 "metadata": {
  "kernelspec": {
   "display_name": "Python [conda env:base] *",
   "language": "python",
   "name": "conda-base-py"
  },
  "language_info": {
   "codemirror_mode": {
    "name": "ipython",
    "version": 3
   },
   "file_extension": ".py",
   "mimetype": "text/x-python",
   "name": "python",
   "nbconvert_exporter": "python",
   "pygments_lexer": "ipython3",
   "version": "3.12.7"
  }
 },
 "nbformat": 4,
 "nbformat_minor": 5
}

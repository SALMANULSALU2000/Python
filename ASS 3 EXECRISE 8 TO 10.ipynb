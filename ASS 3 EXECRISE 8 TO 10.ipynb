{
 "cells": [
  {
   "cell_type": "markdown",
   "id": "233074ac-d512-41e7-8601-a16a34054201",
   "metadata": {},
   "source": [
    "## Exercise 8 – Echo Until 'done'\n"
   ]
  },
  {
   "cell_type": "code",
   "execution_count": null,
   "id": "3d833203-b907-4e6a-b1d1-39de4abdccdb",
   "metadata": {},
   "outputs": [],
   "source": [
    "while True:\n",
    "    value = input(\":\")\n",
    "    print(value)\n",
    "    if value.lower() == 'done':\n",
    "        break\n"
   ]
  },
  {
   "cell_type": "markdown",
   "id": "b713e74e-783e-4d05-8591-b52879835fbe",
   "metadata": {},
   "source": [
    "## Exercise 9 – FizzBuzz from 1 to 10"
   ]
  },
  {
   "cell_type": "code",
   "execution_count": 9,
   "id": "d5d68e5b-cfc7-42e1-a20f-88868bf4f210",
   "metadata": {},
   "outputs": [
    {
     "name": "stdout",
     "output_type": "stream",
     "text": [
      "1\n",
      "2\n",
      "Fizz\n",
      "4\n",
      "Buzz\n",
      "Fizz\n",
      "7\n",
      "8\n",
      "Fizz\n",
      "Buzz\n"
     ]
    }
   ],
   "source": [
    "for i in range(1, 11):\n",
    "    if i % 3 == 0 and i % 5 == 0:\n",
    "        print(\"FizzBuzz\")\n",
    "    elif i % 3 == 0:\n",
    "        print(\"Fizz\")\n",
    "    elif i % 5 == 0:\n",
    "        print(\"Buzz\")\n",
    "    else:\n",
    "        print(i)"
   ]
  },
  {
   "cell_type": "markdown",
   "id": "cae0fe38-e52c-4f33-b14a-7a2905868b90",
   "metadata": {},
   "source": [
    "## Exercise 10 – Reverse Pyramid Pattern"
   ]
  },
  {
   "cell_type": "code",
   "execution_count": 7,
   "id": "c9e5d399-912f-4ece-84a8-0f7b4f98334e",
   "metadata": {},
   "outputs": [
    {
     "name": "stdout",
     "output_type": "stream",
     "text": [
      "5 4 3 2 1 \n",
      "4 3 2 1 \n",
      "3 2 1 \n",
      "2 1 \n",
      "1 \n"
     ]
    }
   ],
   "source": [
    "for i in range(5, 0, -1):\n",
    "    for j in range(i, 0, -1):\n",
    "        print(j, end=\" \")\n",
    "    print()"
   ]
  },
  {
   "cell_type": "code",
   "execution_count": null,
   "id": "7239ca53-5e8b-44aa-a1e8-0b5ba7257afb",
   "metadata": {},
   "outputs": [],
   "source": []
  },
  {
   "cell_type": "code",
   "execution_count": null,
   "id": "73719397-7289-406f-9034-655118ecb2b3",
   "metadata": {},
   "outputs": [],
   "source": []
  }
 ],
 "metadata": {
  "kernelspec": {
   "display_name": "Python [conda env:base] *",
   "language": "python",
   "name": "conda-base-py"
  },
  "language_info": {
   "codemirror_mode": {
    "name": "ipython",
    "version": 3
   },
   "file_extension": ".py",
   "mimetype": "text/x-python",
   "name": "python",
   "nbconvert_exporter": "python",
   "pygments_lexer": "ipython3",
   "version": "3.12.7"
  }
 },
 "nbformat": 4,
 "nbformat_minor": 5
}

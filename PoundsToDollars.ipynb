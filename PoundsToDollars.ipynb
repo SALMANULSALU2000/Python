{
 "cells": [
  {
   "cell_type": "code",
   "execution_count": 5,
   "id": "42375d82-3f29-4f61-890a-9588022cb7c1",
   "metadata": {},
   "outputs": [
    {
     "name": "stdin",
     "output_type": "stream",
     "text": [
      "Please enter amount in pounds:  83\n"
     ]
    },
    {
     "name": "stdout",
     "output_type": "stream",
     "text": [
      "£83.0 are $112.05\n"
     ]
    }
   ],
   "source": [
    "# This program converts pounds to dollars\n",
    "\n",
    "# Ask the user to enter the amount in pounds\n",
    "pounds = float(input(\"Please enter amount in pounds: \"))\n",
    "\n",
    "# Conversion rate (you can adjust this as per current exchange rate)\n",
    "conversion_rate = 1.35  # Example conversion rate: 1 pound = 1.35 dollars\n",
    "\n",
    "# Calculate the equivalent amount in dollars\n",
    "dollars = pounds * conversion_rate\n",
    "\n",
    "# Output the result\n",
    "print(f\"£{pounds} are ${dollars:.2f}\")\n"
   ]
  },
  {
   "cell_type": "code",
   "execution_count": null,
   "id": "16b06db9-95a1-4516-9f5f-1852439b1da9",
   "metadata": {},
   "outputs": [],
   "source": []
  }
 ],
 "metadata": {
  "kernelspec": {
   "display_name": "Python [conda env:base] *",
   "language": "python",
   "name": "conda-base-py"
  },
  "language_info": {
   "codemirror_mode": {
    "name": "ipython",
    "version": 3
   },
   "file_extension": ".py",
   "mimetype": "text/x-python",
   "name": "python",
   "nbconvert_exporter": "python",
   "pygments_lexer": "ipython3",
   "version": "3.12.7"
  }
 },
 "nbformat": 4,
 "nbformat_minor": 5
}
